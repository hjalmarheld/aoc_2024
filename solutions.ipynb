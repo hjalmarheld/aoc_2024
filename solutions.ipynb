{
 "cells": [
  {
   "cell_type": "code",
   "execution_count": 1,
   "metadata": {},
   "outputs": [],
   "source": [
    "from utils import *\n",
    "from itertools import combinations\n",
    "from math import gcd"
   ]
  },
  {
   "cell_type": "markdown",
   "metadata": {},
   "source": [
    "# 1"
   ]
  },
  {
   "cell_type": "code",
   "execution_count": 2,
   "metadata": {},
   "outputs": [
    {
     "name": "stdout",
     "output_type": "stream",
     "text": [
      "627 µs ± 14.7 µs per loop (mean ± std. dev. of 7 runs, 1,000 loops each)\n"
     ]
    }
   ],
   "source": [
    "%%timeit\n",
    "inp = input(1, listify=True, sample=False)\n",
    "\n",
    "A = []\n",
    "B = []\n",
    "\n",
    "for a, b in (i.split() for i in inp):\n",
    "    A.append(int(a))\n",
    "    B.append(int(b))\n",
    "\n",
    "A.sort()\n",
    "B.sort()\n",
    "\n",
    "total = total2 = i = 0\n",
    "for a, b in zip(A, B):\n",
    "    total += abs(a - b)\n",
    "    occ = 0\n",
    "    while B[i] <= a:\n",
    "        if B[i] == a:\n",
    "            occ += 1\n",
    "        i += 1\n",
    "    total2 += occ * a"
   ]
  },
  {
   "cell_type": "markdown",
   "metadata": {},
   "source": [
    "# 7"
   ]
  },
  {
   "cell_type": "code",
   "execution_count": 3,
   "metadata": {},
   "outputs": [
    {
     "name": "stdout",
     "output_type": "stream",
     "text": [
      "q1=12940396350192, q2=106016735664498\n"
     ]
    }
   ],
   "source": [
    "from itertools import product\n",
    "\n",
    "def cartesian(n, q2=False):\n",
    "    return list(product([0,1,2] if q2 else [0,1], repeat=n))\n",
    "\n",
    "inp = input(7, listify=True, sample=False)\n",
    "\n",
    "answers = [int(i.split(':')[0]) for i in inp]\n",
    "numbers = [[int(j) for j in  i.split(':')[1].split()] for i in inp]\n",
    "\n",
    "seen = set()\n",
    "a1 = a2 = 0\n",
    "\n",
    "for ans, nums in zip(answers, numbers):\n",
    "    carts = cartesian(len(nums)-1)\n",
    "    for cart in carts:\n",
    "        combs = []\n",
    "        comb = nums[0]\n",
    "        for j in range(len(cart)):\n",
    "            if cart[j]:\n",
    "                comb *= nums[j+1]\n",
    "            else:\n",
    "                comb += nums[j+1]\n",
    "        if comb == ans:\n",
    "            seen.add(comb)\n",
    "            a1 += comb\n",
    "            break\n",
    "\n",
    "for ans, nums in zip(answers, numbers):\n",
    "    if ans in seen:\n",
    "        continue\n",
    "    carts = cartesian(len(nums)-1, True)\n",
    "    for cart in carts:\n",
    "        comb = nums[0]\n",
    "        too_big = False\n",
    "        for j in range(len(cart)):\n",
    "            if cart[j] == 2:\n",
    "                comb = int(f\"{comb}{nums[j+1]}\")\n",
    "            elif cart[j] == 1:\n",
    "                comb *= nums[j+1]\n",
    "            else:\n",
    "                comb += nums[j+1]\n",
    "            if comb>ans:\n",
    "                too_big = True\n",
    "                break\n",
    "        if too_big:\n",
    "            continue\n",
    "        if comb == ans:\n",
    "            a2 += comb\n",
    "            break\n",
    "\n",
    "print(f'q1={a1}, q2={a1+a2}')"
   ]
  },
  {
   "cell_type": "markdown",
   "metadata": {},
   "source": [
    "# 8"
   ]
  },
  {
   "cell_type": "code",
   "execution_count": 4,
   "metadata": {},
   "outputs": [
    {
     "name": "stdout",
     "output_type": "stream",
     "text": [
      "6.64 ms ± 12 µs per loop (mean ± std. dev. of 7 runs, 100 loops each)\n"
     ]
    }
   ],
   "source": [
    "%%timeit\n",
    "\n",
    "m = input(8, matrixify=True, sample=False)\n",
    "a1 = input(8, matrixify=True, sample=False)\n",
    "a2 = input(8, matrixify=True, sample=False)\n",
    "\n",
    "signals = [i for i in m.unique() if i != '.']\n",
    "\n",
    "for sig in signals:\n",
    "    for (x1, y1), (x2, y2) in combinations(m.get_locs(sig), 2):\n",
    "        dx, dy = x1 - x2, y1 - y2\n",
    "\n",
    "        #q1\n",
    "        if 0 <= x1 + dx < len(m) and 0 <= y1 + dy < len(m[0]):\n",
    "            a1[x1 + dx][y1 + dy]='#'\n",
    "        if 0 <= x2 - dx < len(m) and 0 <= y2 - dy < len(m[0]):\n",
    "            a1[x2 - dx][y2 - dy]='#'\n",
    "\n",
    "        #q2\n",
    "        dx, dy = int(dx / gcd(dx, dy)), int(dy / gcd(dx, dy))\n",
    "        lbound, ubound = int((50-x2)/dx-1), int(-x1/dx+1)\n",
    "        for i in range(lbound, ubound):\n",
    "            if 0 <= x1 + i*dx < len(m) and 0 <= y1 + i*dy < len(m[0]):\n",
    "                a2[x1 + i*dx][y1 + i*dy] = '#'\n",
    "\n",
    "f'q1={a1.count(\"#\")}, q2={a2.count(\"#\")}'"
   ]
  }
 ],
 "metadata": {
  "kernelspec": {
   "display_name": "tf",
   "language": "python",
   "name": "python3"
  },
  "language_info": {
   "codemirror_mode": {
    "name": "ipython",
    "version": 3
   },
   "file_extension": ".py",
   "mimetype": "text/x-python",
   "name": "python",
   "nbconvert_exporter": "python",
   "pygments_lexer": "ipython3",
   "version": "3.10.8"
  }
 },
 "nbformat": 4,
 "nbformat_minor": 2
}
