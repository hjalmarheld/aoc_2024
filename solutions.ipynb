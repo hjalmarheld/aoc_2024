{
 "cells": [
  {
   "cell_type": "code",
   "execution_count": 2,
   "metadata": {},
   "outputs": [],
   "source": [
    "from utils import *"
   ]
  },
  {
   "cell_type": "markdown",
   "metadata": {},
   "source": [
    "# 1"
   ]
  },
  {
   "cell_type": "code",
   "execution_count": 14,
   "metadata": {},
   "outputs": [
    {
     "name": "stdout",
     "output_type": "stream",
     "text": [
      "622 µs ± 15.4 µs per loop (mean ± std. dev. of 7 runs, 1,000 loops each)\n"
     ]
    }
   ],
   "source": [
    "%%timeit\n",
    "inp = input(1, listify=True, sample=False)\n",
    "\n",
    "A = []\n",
    "B = []\n",
    "\n",
    "for a, b in (i.split() for i in inp):\n",
    "    A.append(int(a))\n",
    "    B.append(int(b))\n",
    "\n",
    "A.sort()\n",
    "B.sort()\n",
    "\n",
    "total = total2 = i = 0\n",
    "for a, b in zip(A, B):\n",
    "    total += abs(a - b)\n",
    "    occ = 0\n",
    "    while B[i] <= a:\n",
    "        if B[i] == a:\n",
    "            occ += 1\n",
    "        i += 1\n",
    "    total2 += occ * a"
   ]
  }
 ],
 "metadata": {
  "kernelspec": {
   "display_name": "tf",
   "language": "python",
   "name": "python3"
  },
  "language_info": {
   "codemirror_mode": {
    "name": "ipython",
    "version": 3
   },
   "file_extension": ".py",
   "mimetype": "text/x-python",
   "name": "python",
   "nbconvert_exporter": "python",
   "pygments_lexer": "ipython3",
   "version": "3.10.8"
  }
 },
 "nbformat": 4,
 "nbformat_minor": 2
}
